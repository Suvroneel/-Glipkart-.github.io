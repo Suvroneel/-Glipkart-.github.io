{
  "nbformat": 4,
  "nbformat_minor": 0,
  "metadata": {
    "colab": {
      "provenance": [],
      "authorship_tag": "ABX9TyNy3uEAD7YZdUJrb8QQSEoz",
      "include_colab_link": true
    },
    "kernelspec": {
      "name": "python3",
      "display_name": "Python 3"
    },
    "language_info": {
      "name": "python"
    }
  },
  "cells": [
    {
      "cell_type": "markdown",
      "metadata": {
        "id": "view-in-github",
        "colab_type": "text"
      },
      "source": [
        "<a href=\"https://colab.research.google.com/github/Suvroneel/-Glipkart-.github.io/blob/main/ErrorCost_Adam.ipynb\" target=\"_parent\"><img src=\"https://colab.research.google.com/assets/colab-badge.svg\" alt=\"Open In Colab\"/></a>"
      ]
    },
    {
      "cell_type": "code",
      "source": [
        "import numpy as np\n",
        "import tensorflow as tf\n",
        "from keras import *\n",
        "from keras.layers import *"
      ],
      "metadata": {
        "id": "3xxvwogWvaJY"
      },
      "execution_count": 4,
      "outputs": []
    },
    {
      "cell_type": "markdown",
      "source": [
        "# Error calculation for model evaluation, linear regression\n",
        "When evaluating a linear regression model, you average the squared error difference of the predicted values and the target values.\n"
      ],
      "metadata": {
        "id": "DWgJ9bRTmoGR"
      }
    },
    {
      "cell_type": "code",
      "execution_count": null,
      "metadata": {
        "id": "Opylw1gZmhh7"
      },
      "outputs": [],
      "source": [
        "def eval_mse(y, yhat):\n",
        "    \"\"\"\n",
        "    Calculate the mean squared error on a data set.\n",
        "    Args:\n",
        "      y    : (ndarray  Shape (m,) or (m,1))  target value of each example\n",
        "      yhat : (ndarray  Shape (m,) or (m,1))  predicted value of each example\n",
        "    Returns:\n",
        "      err: (scalar)\n",
        "    \"\"\"\n",
        "    m = len(y)\n",
        "    err = 0.0\n",
        "    for i in range(m):\n",
        "    ### START CODE HERE ###\n",
        "\n",
        "        err_i  = ( (yhat[i] - y[i])**2 )\n",
        "        err   += err_i\n",
        "    err = err / (2*m)\n",
        "\n",
        "\n",
        "    ### END CODE HERE ###\n",
        "\n",
        "    return(err)"
      ]
    },
    {
      "cell_type": "markdown",
      "source": [
        "#Evaluating categorical model by calculating classification error\n",
        "The evaluation function for categorical models used here is simply the fraction of incorrect predictions:\n",
        "𝐽𝑐𝑣=1𝑚∑𝑖=0𝑚−1{1,0,if 𝑦̂ (𝑖)≠𝑦(𝑖)otherwise"
      ],
      "metadata": {
        "id": "Zzh-hazVoRDt"
      }
    },
    {
      "cell_type": "code",
      "source": [
        "# UNQ_C2\n",
        "# GRADED CELL: eval_cat_err\n",
        "def eval_cat_err(y, yhat):\n",
        "    \"\"\"\n",
        "    Calculate the categorization error\n",
        "    Args:\n",
        "      y    : (ndarray  Shape (m,) or (m,1))  target value of each example\n",
        "      yhat : (ndarray  Shape (m,) or (m,1))  predicted value of each example\n",
        "    Returns:|\n",
        "      cerr: (scalar)\n",
        "    \"\"\"\n",
        "    m = len(y)\n",
        "    incorrect = 0\n",
        "    for i in range(m):\n",
        "    ### START CODE HERE ###\n",
        "     if yhat[i] != y[i]:\n",
        "            incorrect += 1\n",
        "    cerr = incorrect/m\n",
        "\n",
        "\n",
        "    ### END CODE HERE ###\n",
        "\n",
        "    return(cerr)"
      ],
      "metadata": {
        "id": "Fh2UVZGOohjP"
      },
      "execution_count": null,
      "outputs": []
    },
    {
      "cell_type": "markdown",
      "source": [
        "#5 - Model Complexity¶\n",
        "##Below, you will build two models. A complex model and a simple model. You will evaluate the models to determine if they are likely to overfit or underfit.\n",
        "\n",
        "5.1 Complex model\n",
        "\n",
        "Exercise 3\n",
        "Below, compose a three-layer model:\n",
        "\n",
        "Dense layer with 120 units, relu activation\n",
        "Dense layer with 40 units, relu activation\n",
        "Dense layer with 6 units and a linear activation (not softmax)\n",
        "Compile using\n",
        "loss with SparseCategoricalCrossentropy, remember to use from_logits=True\n",
        "Adam optimizer with learning rate of 0.01."
      ],
      "metadata": {
        "id": "jJLq64dXvDRf"
      }
    },
    {
      "cell_type": "code",
      "source": [
        "import logging\n",
        "logging.getLogger(\"tensorflow\").setLevel(logging.ERROR)\n",
        "\n",
        "tf.random.set_seed(1234)\n",
        "model = Sequential(\n",
        "    [\n",
        "        Dense(units=120,activation='relu'),\n",
        "        Dense(units=40,activation='relu'),\n",
        "        Dense(units=6,activation='linear')\n",
        "\n",
        "    ], name=\"Complex\"\n",
        ")\n",
        "model.compile(\n",
        "    loss=tf.keras.losses.SparseCategoricalCrossentropy(from_logits=True),\n",
        "    optimizer=tf.keras.optimizers.Adam(0.01),\n",
        ")"
      ],
      "metadata": {
        "id": "hUHHMjPvvC9A"
      },
      "execution_count": null,
      "outputs": []
    }
  ]
}